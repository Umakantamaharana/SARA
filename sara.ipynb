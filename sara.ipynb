{
 "cells": [
  {
   "cell_type": "markdown",
   "metadata": {},
   "source": [
    "#### Install required packages"
   ]
  },
  {
   "cell_type": "code",
   "execution_count": 2,
   "metadata": {},
   "outputs": [
    {
     "name": "stdout",
     "output_type": "stream",
     "text": [
      "\n",
      "\u001b[1m[\u001b[0m\u001b[34;49mnotice\u001b[0m\u001b[1;39;49m]\u001b[0m\u001b[39;49m A new release of pip is available: \u001b[0m\u001b[31;49m24.3.1\u001b[0m\u001b[39;49m -> \u001b[0m\u001b[32;49m25.0.1\u001b[0m\n",
      "\u001b[1m[\u001b[0m\u001b[34;49mnotice\u001b[0m\u001b[1;39;49m]\u001b[0m\u001b[39;49m To update, run: \u001b[0m\u001b[32;49mpython -m pip install --upgrade pip\u001b[0m\n",
      "Note: you may need to restart the kernel to use updated packages.\n"
     ]
    }
   ],
   "source": [
    "%pip install -qr requirements.txt"
   ]
  },
  {
   "cell_type": "markdown",
   "metadata": {},
   "source": [
    "## Data Preprocessing"
   ]
  },
  {
   "cell_type": "markdown",
   "metadata": {},
   "source": [
    "#### Import csv file"
   ]
  },
  {
   "cell_type": "code",
   "execution_count": 2,
   "metadata": {},
   "outputs": [],
   "source": [
    "import glob\n",
    "raw_data = glob.glob(\"*.csv\")"
   ]
  },
  {
   "cell_type": "code",
   "execution_count": 3,
   "metadata": {},
   "outputs": [],
   "source": [
    "import pandas as pd\n",
    "raw_pd = pd.read_csv(raw_data[0])"
   ]
  },
  {
   "cell_type": "markdown",
   "metadata": {},
   "source": [
    "#### Preprocess the csv file"
   ]
  },
  {
   "cell_type": "code",
   "execution_count": 4,
   "metadata": {},
   "outputs": [],
   "source": [
    "filtered_data = raw_pd.drop(columns=\n",
    "                            [\"Timestamp\", \n",
    "                             \"Email Address\", \n",
    "                             \"First Name / Given name ( ପ୍ରଥମ ନାମ )\", \n",
    "                             \"Last name / Surname ( ଶେଷ ନାମ )\",\n",
    "                             \"Mother Tongue ( ମାତୃଭାଷା )\", \n",
    "                             \"Mobile Number 1 ( ମୋବାଇଲ୍ ନମ୍ବର ୧ )\", \n",
    "                             \"Mobile Number 2 ( ମୋବାଇଲ୍ ନମ୍ବର ୨  )\", \n",
    "                             \"KIMS ID ( କିମସ ପରିଚୟ ନମ୍ବର )\", \n",
    "                             \"Town / District ( ସହର /ଜିଲ୍ଲା )\", \n",
    "                             \"State ( ରାଜ୍ୟ )\", \n",
    "                             \"Upload a photo of your hands against a white background as given below.\\nନିମ୍ନରେ ଦିଆଯାଇଥିବା ଧଳା ପୃଷ୍ଠଭୂମିରେ ଆପଣଙ୍କ ହାତର ଏକ ଫଟୋ ଅପଲୋଡ୍ କରନ୍ତୁ।\",\n",
    "                             \"VAS\",\n",
    "                             \"DAS28 ESR\",\n",
    "                             \"Treatment \",\n",
    "                             \"Swollen joint count\",\n",
    "                             \"tender joint count\",\n",
    "                             ])"
   ]
  },
  {
   "cell_type": "code",
   "execution_count": 5,
   "metadata": {},
   "outputs": [],
   "source": [
    "columns = {\n",
    "    'Age ( ବୟସ  ) [Age]': 'age',\n",
    "    'Gender ( ଲିଙ୍ଗ )': 'gender',\n",
    "    'What problem are you facing?\\nଆପଣ କେଉଁ ସମସ୍ୟାର ସମ୍ମୁଖୀନ ହେଉଛନ୍ତି ?': 'problems',\n",
    "    'When did the problem first start? \\nଏହା କେବେ ଆରମ୍ବ ହେଲା ? [Days]': 'problem-days',\n",
    "    'When did the problem first start? \\nଏହା କେବେ ଆରମ୍ବ ହେଲା ? [Weeks]': 'problem-weeks',\n",
    "    'When did the problem first start? \\nଏହା କେବେ ଆରମ୍ବ ହେଲା ? [Months]': 'problem-months',\n",
    "    'When did the problem first start? \\nଏହା କେବେ ଆରମ୍ବ ହେଲା ? [10]': 'problem-years10',\n",
    "    'Do you have pain anywhere else in your body?\\n(ଆପଣଙ୍କ ଶରୀରର ଅନ୍ୟ କୌଣସି ସ୍ଥାନ ରେ ଯନ୍ତ୍ରଣା ଅଛି କି ?)': 'pain-here',\n",
    "    'Tick mark the numbers corresponding to areas where you feel pain.\\nଆପଣଙ୍କ ଶରୀରରେ କେଉଁଠାରେ ଯନ୍ତ୍ରଣା ଅଛି ସେହି ସଂଖ୍ୟା ଗୁଡିକୁ ଠିକ ଚିହ୍ନ ମାରନ୍ତୁ . [Image 1]': 'image1-loc',\n",
    "    'Tick mark the numbers corresponding to areas where you feel pain.\\nଆପଣଙ୍କ ଶରୀରରେ କେଉଁଠାରେ ଯନ୍ତ୍ରଣା ଅଛି ସେହି ସଂଖ୍ୟା ଗୁଡିକୁ ଠିକ ଚିହ୍ନ ମାରନ୍ତୁ . [Image 2]': 'image2-loc',\n",
    "    'Have you noticed any deformit  in your joints?\\nତୁମର ଗଣ୍ଠି ରେ କୌଣସି ବିକଳାଙ୍ଗତା ଲକ୍ଷ କରିଛ କି ?': 'joint-deformit',\n",
    "    'Tick mark the numbers corresponding to areas where you  noticed any swelling.\\nଆପଣଙ୍କ ଶରୀରରେ କେଉଁଠାରେ  ଫୁଲା ଲକ୍ଷ କରିଛନ୍ତି, ସେହି ସଂଖ୍ୟା ଗୁଡିକୁ ଠିକ ଚିହ୍ନ ମାରନ୍ତୁ . [Image 1]': 'swelling1',\n",
    "    'Tick mark the numbers corresponding to areas where you  noticed any swelling.\\nଆପଣଙ୍କ ଶରୀରରେ କେଉଁଠାରେ  ଫୁଲା ଲକ୍ଷ କରିଛନ୍ତି, ସେହି ସଂଖ୍ୟା ଗୁଡିକୁ ଠିକ ଚିହ୍ନ ମାରନ୍ତୁ . [Image 2]': 'swelling2',\n",
    "    'Is the swelling in your joints constant or does it come and go? \\nଗଣ୍ଠି ଫୁଲା ସ୍ଥାୟୀ ରହେ କିମ୍ବା କିଛି ସମୟ ପାଇ ଆସେ ଓ ଯାଏ ?': 'swelling-constant',\n",
    "    'Do your joints appear red when swollen?\\nଫୁଲିଯିବା ସମୟ ରେ ଗଣ୍ଠି ଗୁଡିକ ଲାଲ୍ ହୋଇଯାଏ କି ?': 'red-swollen',\n",
    "    'Do your joints feel warm when you touch them? \\nଗଣ୍ଠି ଗୁଡିକ ଛୁଇଁଲେ ଗରମ ଅନୁଭବ କରନ୍ତି କି ?': 'warm-joints',\n",
    "    'At what time do you feel more pain?\\nକେଉଁ ସମୟ ରେ ଆପଣ ଅଧିକ ଯନ୍ତ୍ରଣା ଅନୁଭବ କରନ୍ତି ?': 'pain-time',\n",
    "    'Does the pain disturb your sleep?\\nଯନ୍ତ୍ରଣା ଆପଣଙ୍କ ନିଦକୁ ବ୍ୟାକୁଳ କରେ କି ?': 'sleep-disturb',\n",
    "    'How many hours of sleep are you getting?\\nଆପଣ କେତେ ଘଣ୍ଟା ଶୁଅନ୍ତି ?': 'sleep-hours',\n",
    "    'Does physical activity increase or reduce the pain?\\nଶାରୀରିକ କାର୍ଯକଳାପ ଯନ୍ତ୍ରଣା ବଢାଏ କି ?': 'increase-pain',\n",
    "    'Does taking rest increase or reduce the pain? \\nବିଶ୍ରାମ ନେବା ଯନ୍ତ୍ରଣା ହ୍ରାସ କରେ କି ?': 'rest-increase',\n",
    "    'Do you have to take painkillers for your pain?  \\nଯନ୍ତ୍ରଣା ପାଇଁ ପେନକିଲର ନିଅନ୍ତି କି ?': 'painkillers',\n",
    "    'How does the pain respond to painkillers?\\nଯନ୍ତ୍ରଣା ପେନକିଲର କୁ କିପରି ପ୍ରତିକ୍ରିୟା କରେ ?': 'response-painkillers',\n",
    "    'What other symptoms do you have except pain? \\nଯନ୍ତ୍ରଣା ବ୍ୟତୀତ ତୁମର ଆଉ କେଉଁ ଲକ୍ଷଣ ଅଛି ?': 'other-symptoms',\n",
    "    'Have you ever had a fever? If yes, what was the temperature for fever? \\nଆପଣ କେବେ ଜ୍ଵର ଅନୁଭବ କରିଛନ୍ତି କି ? ଯଦି ହଁ, ତାପମାତ୍ରା କେତେ ଥିଲା ?': 'temp',\n",
    "    'Have you ever had a skin rash? If yes, in which part of the body?  \\nତୁମର କେବେ ଚର୍ମ ଦାଗ ହେଇଛି କି ?': 'skin-rash',\n",
    "    'Does your skin rash increase on going out in the sun?  \\nସୁର୍ଯ କିରଣ ରେ ତୁମ ଚର୍ମ ଦାଗ ବଢିଯାଏ କି ?': 'rash-sun',\n",
    "    'Have you ever had mouth ulcers?  \\nପାଟି କେବେ ଘା ହୋଇଛି କି ?': 'mouth-ulcers',\n",
    "    'Do you ever have grittiness in your eyes (sand like sensation/ itching)?  \\nଆଖି ରେ କେବେ ବାଲି ପଶିବା ଭଳି କି କୁଣ୍ଡେଇ ହେବା ଅନୁଭବ କରିଛନ୍ତି କି ?': 'eye-grittiness',\n",
    "    'Have you ever had to use eye drops for dryness in your eyes?  \\nଆଖିରେ ଶୁଷ୍କତା ପାଇଁ କେବେ ଆଖି ଔଷଧ ବ୍ୟବହାର କରିଛନ୍ତି କି ?': 'eye-drops',\n",
    "    'Do you have difficulty in swallowing dry foods like biscuits, rice (without daal/liquidish soup), moori (without water).\\nବିସକୁଟ , ଚାଉଳ , ମୁଢି ପରି ଶୁଖିଲା ଖାଦ୍ୟ ( ବିନା ଡାଲି କିମ୍ବା ପାଣି ରେ  ) ଗିଳିବାରେ ଅସୁବିଧା ଅଛି କି ?': 'difficult-swallowing',\n",
    "    'Is there difficulty in getting up from the chair? \\nଚେୟାର ରୁ ଉଠିବା ରେ ଅସୁବିଧା ହେଉଛି  କି ?': 'difficult-wakingup',\n",
    "    'Is there difficulty in sitting up in the bed from lying down? \\nଖଟ ଉପରେ ବସିବା ଓ ଉଠିବା ରେ କୌଣସି ଅସୁବିଧା ହେଉଛି କି ?': 'difficult-sitting',\n",
    "    'Have you ever been diagnosed with skin disease like psoriasis?   \\nସୋରିୟସୀସ୍ ପରି ଚର୍ମ ରୋଗ ରେ ଆକ୍ରାନ୍ତ ହୋଇଛନ୍ତି କି ?': 'psoriasis',\n",
    "    'Have you had ulcers/wounds on your skin that took longer than usual to heal?   \\nଆପଣଙ୍କ ଚର୍ମରେ ଅଲସର / କ୍ଷତ  ଥିଲା କି ଯାହାକୁ ଭଲ କରିବା ପାଇଁ ସ୍ୱାଭାବିକ ଠାରୁ ଅଧିକ ସମୟ ଲାଗିଥିଲା?': 'longer-heal-time',\n",
    "    'Have you ever had a painful red eye? \\nକେବେ ଯନ୍ତ୍ରଣା ଦାଯକ ଲାଲ୍ ଆଖି ହୋଇଛି କି ?': 'painful-eye',\n",
    "    'Have you ever had a cough for more than 6 weeks?  \\nଆପଣଙ୍କର କେବେ ୬ ସପ୍ତାହ ରୁ ଅଧିକ କାଶ ହୋଇଛି କି ?': 'cough',\n",
    "    'Have you diagnosed rheumatoid arthraitis or any other?': 'previous-ra',\n",
    "    'Have you ever given any medicines for Arthritis? If yes, how did you respond to those medicines?  \\nଆପଣ କେବେ ଆର୍ଥ୍ରାଇଟିସ୍ ପାଇଁ କୌଣସି ଔଷଧ ନେଇଛନ୍ତି କି? ଯଦି ହଁ, ତେବେ ଆପଣ ସେହି ଔଷଧଗୁଡ଼ିକ କିପରି ପ୍ରତିକ୍ରିୟା କଲେ ?  ': 'medicines',\n",
    "    'Are you taking medicine for any of the following ?\\nଆପଣ ନିମ୍ନଲିଖିତ ମଧ୍ୟରୁ କୌଣସି ପାଇଁ ଔଷଧ ଖାଉଛନ୍ତି କି?': 'medicines-now',\n",
    "    'When did the problem first start? \\nଏହା କେବେ ଆରମ୍ବ ହେଲା ? [Years]': 'problem-years',\n",
    "    'Final diagnosis ( by doctor )': 'final-diagnosis',\n",
    "    }\n",
    "\n",
    "filtered_data.rename(columns=columns, inplace=True)"
   ]
  },
  {
   "cell_type": "code",
   "execution_count": 6,
   "metadata": {},
   "outputs": [
    {
     "data": {
      "text/plain": [
       "Index(['age', 'gender', 'problems', 'problem-days', 'problem-weeks',\n",
       "       'problem-months', 'problem-years10', 'pain-here', 'image1-loc',\n",
       "       'image2-loc', 'joint-deformit', 'swelling1', 'swelling2',\n",
       "       'swelling-constant', 'red-swollen', 'warm-joints', 'pain-time',\n",
       "       'sleep-disturb', 'sleep-hours', 'increase-pain', 'rest-increase',\n",
       "       'painkillers', 'response-painkillers', 'other-symptoms', 'temp',\n",
       "       'skin-rash', 'rash-sun', 'mouth-ulcers', 'eye-grittiness', 'eye-drops',\n",
       "       'difficult-swallowing', 'difficult-wakingup', 'difficult-sitting',\n",
       "       'psoriasis', 'longer-heal-time', 'painful-eye', 'cough', 'previous-ra',\n",
       "       'medicines', 'medicines-now', 'problem-years', 'final-diagnosis'],\n",
       "      dtype='object')"
      ]
     },
     "execution_count": 6,
     "metadata": {},
     "output_type": "execute_result"
    }
   ],
   "source": [
    "filtered_data.columns"
   ]
  },
  {
   "cell_type": "code",
   "execution_count": 7,
   "metadata": {},
   "outputs": [],
   "source": [
    "columns_to_replace = {\n",
    "    'problems': [' ( ଗଣ୍ଠି ଯନ୍ତ୍ରଣା )', ' ( ଗଣ୍ଠି ଫୁଲିବା )', ' ( ସକାଳ କଠିନତା )', ' ( ହାତ/ ପାଦ ଚଳାଇବାରେ ଅସମର୍ଥତା )'],\n",
    "    'pain-here': [' ( ହଁ, ଉପର ପିଠି ଯନ୍ତ୍ରଣା )', ' ( ହଁ, ନିମ୍ନ ପିଠି ଯନ୍ତ୍ରଣା )', ' ( ନା )'],\n",
    "    'joint-deformit': [' ( ହଁ, ବାମ ହାତ )', ' ( ହଁ, ଡାହାଣ ହାତ )', ' ( ହଁ, ବାମ ପାଦ )', ' ( ହଁ, ଡାହାଣ ପାଦ )', \n",
    "                       ' ( ହଁ, ବାମ ଗୋଡ଼ )', ' ( ହଁ, ଡାହାଣ ଗୋଡ଼ )', ' ( ହଁ, ବାମ କହୁଣୀ )', ' ( ହଁ, ଡାହାଣ କହୁଣୀ )'],\n",
    "    'swelling-constant': [' ( ଆସେ ଓ ଯାଏ )', ' ( ସ୍ଥାୟୀ )', ' ( ପ୍ରଯୁଜ୍ୟ ନୁହେଁ )'],\n",
    "    'red-swollen': [' ( ନା )', ' ( ହଁ )', ' ( ପ୍ରଯୁଜ୍ୟ ନୁହେଁ )'],\n",
    "    'warm-joints': [' ( ନା )', ' ( ହଁ )', ' ( ପ୍ରଯୁଜ୍ୟ ନୁହେଁ )'],\n",
    "    'pain-time': [' ( ସକାଳେ )', ' ( ରାତି  ରେ )', ' ( ସବୁ ବେଳେ )', ' ( ସନ୍ଧ୍ୟା ରେ )'],\n",
    "    'sleep-disturb': [' ( ନା )', ' ( ହଁ )', ' ( ବେଳେ ବେଳେ )'],\n",
    "    'increase-pain': [' ( କମେ )', ' ( ବଢେ )'],\n",
    "    'rest-increase': [' ( କମେ )', ' ( ବଢେ )'],\n",
    "    'warm-joints': [' ( ନା )', ' ( ହଁ )', ' ( ପ୍ରଯୁଜ୍ୟ ନୁହେଁ )'],\n",
    "    'painkillers': [' ( ନା )', ' ( ହଁ )'],\n",
    "    'response-painkillers': [' ( ଭଲ ଆଶ୍ୱସ୍ତି )', ' ( ସାମାନ୍ୟ ଆଶ୍ୱସ୍ତି )', ' ( ମଧ୍ୟମ ଧରଣର ରିଲିଫ୍ )', ' ( ପ୍ରଯୁଜ୍ୟ ନୁହେଁ )'],\n",
    "    'other-symptoms': [' ( ଗଣ୍ଠି ଯନ୍ତ୍ରଣା )', ' ( ଗଣ୍ଠି ଫୁଲା )', ' ( ହାତ / ପାଦ ଚଳାଇବାରେ ଅକ୍ଷମତା )', ' ( ପ୍ରଯୁଜ୍ୟ ନୁହେଁ )'],\n",
    "    'temp': [' ( ହଁ, 100° ଫାରେନହାଇଟ୍ ରୁ କମ୍ )', ' ( ହଁ, 100-102° F )', ' ( ନା )', ' ( ହଁ, 102° ଫାରେନହାଇଟ୍ ରୁ ଅଧିକ )'],\n",
    "    'skin-rash': [' ( ନାହିଁ )', ' ( ହଁ, ଚେହେରା )', ' ( ହଁ, ହାତ / ପାଦ )'],\n",
    "    'rash-sun': [' ( ନା )', ' ( ହଁ )'],\n",
    "    'mouth-ulcers':  [' ( ନା )', ' ( ହଁ )'],\n",
    "    'eye-grittiness': [' ( ନା )', ' ( କୁଣ୍ଡେଇ ହେବା )', ' ( ବାଲି ପରି ସମ୍ବେଦନା )'],\n",
    "    'eye-drops': [' ( ନା )', ' ( ହଁ )'],\n",
    "    'cough': [' ( ନା )', ' ( ହଁ )'],\n",
    "    'painful-eye': [' ( ନା )', ' ( ହଁ )'],\n",
    "    'longer-heal-time': [' ( ନା )', ' ( ହଁ )'],\n",
    "    'psoriasis': [' ( ନା )', ' ( ହଁ )'],\n",
    "    'difficult-sitting': [' ( ନା )', ' ( ହଁ )'],\n",
    "    'difficult-wakingup': [' ( ନା )', ' ( ହଁ )'],\n",
    "    'difficult-swallowing': [' ( ନା )', ' ( ହଁ )'],\n",
    "    'previous-ra': [' ( ହଁ, ଆର୍ଥ୍ରାଇଟିସ୍ )', ' ( ନା )'],\n",
    "    'medicines': [' ( ନା )', ' ( ହଁ, ମୁଁ ସାହାଯ୍ୟ କଲି )', ' ( ହଁ, କିନ୍ତୁ ସେମାନେ ସାହାଯ୍ୟ କଲେ ନାହିଁ )'],\n",
    "    'medicines-now': [' ( ନା )', ' ( ହଁ, ଥାଇରଏଡ୍ ସମସ୍ୟା )', ' ( ହଁ, ଉଚ୍ଚ ରକ୍ତଚାପ )', ' ( ହଁ, ଥାଇରଏଡ୍ ସମସ୍ୟା )', ' ( ହଁ,  ମଧୁମେହ ରୋଗ )'],\n",
    "}\n",
    "\n",
    "\n",
    "for column, substrings in columns_to_replace.items():\n",
    "    val = {}\n",
    "    d = filtered_data[column].unique()\n",
    "    for i in list(d):\n",
    "        new_i = i\n",
    "        try:\n",
    "            for substring in substrings:\n",
    "                new_i = new_i.replace(substring, '')\n",
    "        except:\n",
    "            pass\n",
    "        \n",
    "        val[i] = new_i\n",
    "    filtered_data[column] = filtered_data[column].map(val)"
   ]
  },
  {
   "cell_type": "code",
   "execution_count": 8,
   "metadata": {},
   "outputs": [],
   "source": [
    "DAYS_IN_WEEK = 7\n",
    "DAYS_IN_MONTH = 30\n",
    "DAYS_IN_YEAR = 365\n",
    "\n",
    "filtered_data['total_days'] = (\n",
    "    filtered_data['problem-days'].fillna(0) +\n",
    "    filtered_data['problem-weeks'].fillna(0) * DAYS_IN_WEEK +\n",
    "    filtered_data['problem-months'].fillna(0) * DAYS_IN_MONTH +\n",
    "    filtered_data['problem-years'].fillna(0) * DAYS_IN_YEAR\n",
    ")\n",
    "\n",
    "columns_to_remove = ['problem-days', 'problem-weeks', 'problem-months', 'problem-years']\n",
    "filtered_data.drop(columns=columns_to_remove, inplace=True)"
   ]
  },
  {
   "cell_type": "code",
   "execution_count": 9,
   "metadata": {},
   "outputs": [],
   "source": [
    "# Convert all values in the DataFrame to lowercase\n",
    "filtered_data = filtered_data.map(lambda x: x.lower() if isinstance(x, str) else x)"
   ]
  },
  {
   "cell_type": "code",
   "execution_count": 10,
   "metadata": {},
   "outputs": [],
   "source": [
    "diagnosis_corrections = {\n",
    "    'rheumatoid arthritis ': 'rheumatoid arthritis',\n",
    "    'rheumatoid arthritisr': 'rheumatoid arthritis',\n",
    "    'rheumatoid arthrtiis': 'rheumatoid arthritis',\n",
    "    'rheumaoid arthritis': 'rheumatoid arthritis',\n",
    "    'fibromyalgia ': 'fibromyalgia'\n",
    "}\n",
    "\n",
    "filtered_data['final-diagnosis'] = filtered_data['final-diagnosis'].replace(diagnosis_corrections)"
   ]
  },
  {
   "cell_type": "code",
   "execution_count": 11,
   "metadata": {},
   "outputs": [],
   "source": [
    "filtered_data_diagnosed = filtered_data[filtered_data['final-diagnosis'].notnull()]"
   ]
  },
  {
   "cell_type": "code",
   "execution_count": 12,
   "metadata": {},
   "outputs": [
    {
     "name": "stderr",
     "output_type": "stream",
     "text": [
      "/tmp/ipykernel_36346/935882189.py:52: SettingWithCopyWarning: \n",
      "A value is trying to be set on a copy of a slice from a DataFrame.\n",
      "Try using .loc[row_indexer,col_indexer] = value instead\n",
      "\n",
      "See the caveats in the documentation: https://pandas.pydata.org/pandas-docs/stable/user_guide/indexing.html#returning-a-view-versus-a-copy\n",
      "  filtered_data_diagnosed.loc[:, 'image1-loc-mapped'] = filtered_data_diagnosed['image1-loc'].apply(\n",
      "/tmp/ipykernel_36346/935882189.py:57: SettingWithCopyWarning: \n",
      "A value is trying to be set on a copy of a slice from a DataFrame.\n",
      "Try using .loc[row_indexer,col_indexer] = value instead\n",
      "\n",
      "See the caveats in the documentation: https://pandas.pydata.org/pandas-docs/stable/user_guide/indexing.html#returning-a-view-versus-a-copy\n",
      "  filtered_data_diagnosed.loc[:, 'image2-loc-mapped'] = filtered_data_diagnosed['image2-loc'].apply(\n",
      "/tmp/ipykernel_36346/935882189.py:62: SettingWithCopyWarning: \n",
      "A value is trying to be set on a copy of a slice from a DataFrame.\n",
      "Try using .loc[row_indexer,col_indexer] = value instead\n",
      "\n",
      "See the caveats in the documentation: https://pandas.pydata.org/pandas-docs/stable/user_guide/indexing.html#returning-a-view-versus-a-copy\n",
      "  filtered_data_diagnosed.loc[:, 'swelling1-mapped'] = filtered_data_diagnosed['swelling1'].apply(\n",
      "/tmp/ipykernel_36346/935882189.py:67: SettingWithCopyWarning: \n",
      "A value is trying to be set on a copy of a slice from a DataFrame.\n",
      "Try using .loc[row_indexer,col_indexer] = value instead\n",
      "\n",
      "See the caveats in the documentation: https://pandas.pydata.org/pandas-docs/stable/user_guide/indexing.html#returning-a-view-versus-a-copy\n",
      "  filtered_data_diagnosed.loc[:, 'swelling2-mapped'] = filtered_data_diagnosed['swelling2'].apply(\n"
     ]
    }
   ],
   "source": [
    "IMAGE1_MAPPING = {\n",
    "    1: \"Forehead\",\n",
    "    2: \"NA\",\n",
    "    3: \"Right shoulder\",\n",
    "    4: \"Right upper arm\",\n",
    "    5: \"Right forearm\",\n",
    "    6: \"Right wrist\",\n",
    "    7: \"Right MCP (Metacarpal phalangeal joint)\",\n",
    "    8: \"Right PIP (Proximal interphalangeal joint)\",\n",
    "    9: \"Right thigh\",\n",
    "    10: \"Right knee\",\n",
    "    11: \"Right ankle\",\n",
    "    12: \"Right midfoot\",\n",
    "    13: \"Right toes\",\n",
    "    14: \"Left TMJ joint\",\n",
    "    15: \"Left shoulder\",\n",
    "    16: \"Left upper arm\",\n",
    "    17: \"Left forearm\",\n",
    "    18: \"Left writst\",\n",
    "    19: \"Right MCP (Metacarpal phalangeal joint)\",\n",
    "    20: \"Right PIP (Proximal interphalangeal joint)\",\n",
    "    21: \"Right thigh\",\n",
    "    22: \"Right knee\",\n",
    "    23: \"Right ankle\",\n",
    "    24: \"Right midfoot\",\n",
    "    25: \"Right toes\",\n",
    "}\n",
    "\n",
    "IMAGE2_MAPPING = {\n",
    "    1: \"Suboccipital region\",\n",
    "    2: \"Posterior cervical region\",\n",
    "    3: \"Left shoulder (post)\",\n",
    "    4: \"Left elbow\",\n",
    "    5: \"Lower back (left PSIS)\",\n",
    "    6: \"Left hip buttock\",\n",
    "    7: \"Left calf\",\n",
    "    8: \"Left heel\",\n",
    "    9: \"Suboccipital region\",\n",
    "    10: \"Upper back\",\n",
    "    11: \"Right shoulder (post)\",\n",
    "    12: \"Middle back\",\n",
    "    13: \"Lower midback\",\n",
    "    14: \"Right elbow\",\n",
    "    15: \"Right PSIS\",\n",
    "    16: \"Low back\",\n",
    "    17: \"Right hip buttock\",\n",
    "    18: \"Right calf\",\n",
    "    19: \"Right heel\"\n",
    "}\n",
    "\n",
    "# Map 'image1-loc' values using IMAGE1_MAPPING\n",
    "filtered_data_diagnosed.loc[:, 'image1-loc-mapped'] = filtered_data_diagnosed['image1-loc'].apply(\n",
    "    lambda x: ', '.join([IMAGE1_MAPPING.get(int(i), \"Unknown\") for i in str(x).split(', ')]) if pd.notnull(x) else x\n",
    ")\n",
    "\n",
    "# Map 'image2-loc' values using IMAGE2_MAPPING\n",
    "filtered_data_diagnosed.loc[:, 'image2-loc-mapped'] = filtered_data_diagnosed['image2-loc'].apply(\n",
    "    lambda x: ', '.join([IMAGE2_MAPPING.get(int(i), \"Unknown\") for i in str(x).split(', ')]) if pd.notnull(x) else x\n",
    ")\n",
    "\n",
    "# Map 'swelling1' values using IMAGE1_MAPPING\n",
    "filtered_data_diagnosed.loc[:, 'swelling1-mapped'] = filtered_data_diagnosed['swelling1'].apply(\n",
    "    lambda x: ', '.join([IMAGE1_MAPPING.get(int(i), \"Unknown\") for i in str(x).split(', ')]) if pd.notnull(x) else x\n",
    ")\n",
    "\n",
    "# Map 'swelling2' values using IMAGE2_MAPPING\n",
    "filtered_data_diagnosed.loc[:, 'swelling2-mapped'] = filtered_data_diagnosed['swelling2'].apply(\n",
    "    lambda x: ', '.join([IMAGE2_MAPPING.get(int(i), \"Unknown\") for i in str(x).split(', ')]) if pd.notnull(x) else x\n",
    ")\n",
    "\n",
    "# Drop the old columns\n",
    "columns_to_drop = ['image1-loc', 'image2-loc', 'swelling1', 'swelling2']\n",
    "filtered_data_diagnosed = filtered_data_diagnosed.drop(columns=columns_to_drop)"
   ]
  },
  {
   "cell_type": "code",
   "execution_count": 13,
   "metadata": {},
   "outputs": [],
   "source": [
    "fibromyalgia_df = filtered_data_diagnosed[filtered_data_diagnosed['final-diagnosis'] == 'fibromyalgia']\n",
    "rheumatoid_arthritis_df = filtered_data_diagnosed[filtered_data_diagnosed['final-diagnosis'] == 'rheumatoid arthritis']\n",
    "\n",
    "fibromyalgia_knowledge_base = fibromyalgia_df.iloc[:25]\n",
    "rheumatoid_arthritis_knowledge_base = rheumatoid_arthritis_df.iloc[:125]\n",
    "\n",
    "knowledge_base_df = pd.concat([fibromyalgia_knowledge_base, rheumatoid_arthritis_knowledge_base], ignore_index=True)\n",
    "\n",
    "fibromyalgia_test = fibromyalgia_df.iloc[25:50]\n",
    "rheumatoid_arthritis_test = rheumatoid_arthritis_df.iloc[125:150]\n",
    "\n",
    "test_df = pd.concat([fibromyalgia_test, rheumatoid_arthritis_test], ignore_index=True)"
   ]
  },
  {
   "cell_type": "markdown",
   "metadata": {},
   "source": [
    "## Agentic Framework"
   ]
  },
  {
   "cell_type": "markdown",
   "metadata": {},
   "source": [
    "### Patient prompt design"
   ]
  },
  {
   "cell_type": "code",
   "execution_count": 14,
   "metadata": {},
   "outputs": [],
   "source": [
    "import pandas as pd\n",
    "\n",
    "def create_patient_prompt(patient_data):\n",
    "    prompt = f\"\"\"\n",
    "Patient Information:\n",
    "\n",
    "Age: {patient_data['age']}\n",
    "Gender: {patient_data['gender']}\n",
    "Problems: {patient_data['problems']}\n",
    "Duration of Problem: {patient_data['total_days']} days\n",
    "Pain Location: {patient_data['pain-here']}\n",
    "Pain Areas (Image 1): {patient_data['image1-loc-mapped']}\n",
    "Pain Areas (Image 2): {patient_data['image2-loc-mapped']}\n",
    "Joint Deformity: {patient_data['joint-deformit']}\n",
    "Swelling Areas (Image 1): {patient_data['swelling1-mapped']}\n",
    "Swelling Areas (Image 2): {patient_data['swelling2-mapped']}\n",
    "Swelling Pattern: {patient_data['swelling-constant']}\n",
    "Redness in Swollen Joints: {patient_data['red-swollen']}\n",
    "Warm Joints: {patient_data['warm-joints']}\n",
    "Pain Time: {patient_data['pain-time']}\n",
    "Sleep Disturbance: {patient_data['sleep-disturb']}\n",
    "Sleep Hours: {patient_data['sleep-hours']}\n",
    "Physical Activity Impact: {patient_data['increase-pain']}\n",
    "Rest Impact: {patient_data['rest-increase']}\n",
    "Painkillers: {patient_data['painkillers']}\n",
    "Painkiller Response: {patient_data['response-painkillers']}\n",
    "\"\"\"\n",
    "\n",
    "    # Handle missing values\n",
    "    \n",
    "    # Handle missing values\n",
    "    if pd.notnull(patient_data['other-symptoms']):\n",
    "        if patient_data['other-symptoms'] == 'No':\n",
    "            prompt += f\"Other symptoms: No\\n\"\n",
    "        else:\n",
    "            prompt += f\"\"\n",
    "            \n",
    "    if pd.notnull(patient_data['temp']):\n",
    "        if patient_data['temp'] == 'no':\n",
    "            prompt += f\"Fever: No\\n\"\n",
    "        else:\n",
    "            prompt += f\"Fever: {patient_data['temp']}\\n\"\n",
    "\n",
    "    if pd.notnull(patient_data['skin-rash']):\n",
    "        if patient_data['skin-rash'] == 'no':\n",
    "            prompt += f\"Skin Rash: No\\n\"\n",
    "        else:\n",
    "            prompt += f\"Skin Rash: {patient_data['skin-rash']}\\n\"\n",
    "\n",
    "    if pd.notnull(patient_data['rash-sun']):\n",
    "        if patient_data['rash-sun'] == 'no':\n",
    "            prompt += f\"Rash in Sun: No\\n\"\n",
    "        else:\n",
    "            prompt += f\"Rash in Sun: {patient_data['rash-sun']}\\n\"\n",
    "\n",
    "    if pd.notnull(patient_data['mouth-ulcers']):\n",
    "        if patient_data['mouth-ulcers'] == 'no':\n",
    "            prompt += f\"Mouth Ulcers: No\\n\"\n",
    "        else:\n",
    "            prompt += f\"Mouth Ulcers: {patient_data['mouth-ulcers']}\\n\"\n",
    "\n",
    "    if pd.notnull(patient_data['eye-grittiness']):\n",
    "        if patient_data['eye-grittiness'] == 'no':\n",
    "            prompt += f\"Eye Grittiness: No\\n\"\n",
    "        else:\n",
    "            prompt += f\"Eye Grittiness: {patient_data['eye-grittiness']}\\n\"\n",
    "\n",
    "    if pd.notnull(patient_data['eye-drops']):\n",
    "        if patient_data['eye-drops'] == 'no':\n",
    "            prompt += f\"Eye Drops: No\\n\"\n",
    "        else:\n",
    "            prompt += f\"Eye Drops: {patient_data['eye-drops']}\\n\"\n",
    "\n",
    "    if pd.notnull(patient_data['difficult-swallowing']):\n",
    "        if patient_data['difficult-swallowing'] == 'no':\n",
    "            prompt += f\"Swallowing Difficulty: No\\n\"\n",
    "        else:\n",
    "            prompt += f\"Swallowing Difficulty: {patient_data['difficult-swallowing']}\\n\"\n",
    "\n",
    "    if pd.notnull(patient_data['difficult-wakingup']):\n",
    "        if patient_data['difficult-wakingup'] == 'no':\n",
    "            prompt += f\"Difficulty Waking Up: No\\n\"\n",
    "        else:\n",
    "            prompt += f\"Difficulty Waking Up: {patient_data['difficult-wakingup']}\\n\"\n",
    "\n",
    "    if pd.notnull(patient_data['difficult-sitting']):\n",
    "        if patient_data['difficult-sitting'] == 'no':\n",
    "            prompt += f\"Difficulty Sitting Up: No\\n\"\n",
    "        else:\n",
    "            prompt += f\"Difficulty Sitting Up: {patient_data['difficult-sitting']}\\n\"\n",
    "\n",
    "    if pd.notnull(patient_data['psoriasis']):\n",
    "        if patient_data['psoriasis'] == 'no':\n",
    "            prompt += f\"Psoriasis: No\\n\"\n",
    "        else:\n",
    "            prompt += f\"Psoriasis: {patient_data['psoriasis']}\\n\"\n",
    "\n",
    "    if pd.notnull(patient_data['longer-heal-time']):\n",
    "        if patient_data['longer-heal-time'] == 'no':\n",
    "            prompt += f\"Healing Time: No\\n\"\n",
    "        else:\n",
    "            prompt += f\"Healing Time: {patient_data['longer-heal-time']}\\n\"\n",
    "\n",
    "    if pd.notnull(patient_data['painful-eye']):\n",
    "        if patient_data['painful-eye'] == 'no':\n",
    "            prompt += f\"Painful Eye: No\\n\"\n",
    "        else:\n",
    "            prompt += f\"Painful Eye: {patient_data['painful-eye']}\\n\"\n",
    "\n",
    "    if pd.notnull(patient_data['cough']):\n",
    "        if patient_data['cough'] == 'no':\n",
    "            prompt += f\"Cough: No\\n\"\n",
    "        else:\n",
    "            prompt += f\"Cough: {patient_data['cough']}\\n\"\n",
    "\n",
    "    if pd.notnull(patient_data['previous-ra']):\n",
    "        if patient_data['previous-ra'] == 'no':\n",
    "            prompt += f\"Previous History of Joint Pain, Swelling: No\\n\"\n",
    "        else:\n",
    "            prompt += f\"Previous History of Joint Pain, Swelling: Yes\\n\"\n",
    "\n",
    "    if pd.notnull(patient_data['medicines']):\n",
    "        if patient_data['medicines'] == 'no':\n",
    "            prompt += f\"Medication History: No\\n\"\n",
    "        else:\n",
    "            prompt += f\"Medication History: {patient_data['medicines']}\\n\"\n",
    "\n",
    "    if pd.notnull(patient_data['medicines-now']):\n",
    "        if patient_data['medicines-now'] == 'no':\n",
    "            prompt += f\"Current Medications: No\\n\"\n",
    "        else:\n",
    "            prompt += f\"Current Medications: {patient_data['medicines-now']}\\n\"\n",
    "\n",
    "    if pd.notnull(patient_data['final-diagnosis']):\n",
    "        prompt += f\"Final Diagnosis: {patient_data['final-diagnosis']}\\n\"\n",
    "\n",
    "    return prompt\n",
    "\n",
    "# Create text documents from the DataFrame\n",
    "knowledge_base_docs = []\n",
    "for index, row in knowledge_base_df.iterrows():\n",
    "    patient_prompt = create_patient_prompt(row)\n",
    "    knowledge_base_docs.append(patient_prompt)"
   ]
  },
  {
   "cell_type": "markdown",
   "metadata": {},
   "source": [
    "### VectorDB setup with neo4j"
   ]
  },
  {
   "cell_type": "code",
   "execution_count": null,
   "metadata": {},
   "outputs": [
    {
     "name": "stdout",
     "output_type": "stream",
     "text": [
      "Loaded from aura db.\n"
     ]
    }
   ],
   "source": [
    "import os\n",
    "from dotenv import load_dotenv\n",
    "from langchain_neo4j import Neo4jVector\n",
    "from langchain_openai import OpenAIEmbeddings\n",
    "\n",
    "# Load environment variables from .env file\n",
    "load_dotenv()\n",
    "\n",
    "# Retrieve the OpenAI API key from the environment variables\n",
    "openai_api_key = os.getenv(\"OPENAI_API_KEY\")\n",
    "\n",
    "url = os.getenv(\"NEO4J_URI\")\n",
    "username = os.getenv(\"NEO4J_USERNAME\")\n",
    "password = os.getenv(\"NEO4J_PASSWORD\")\n",
    "\n",
    "embeddings = OpenAIEmbeddings(api_key=openai_api_key)\n",
    "\n",
    "try:\n",
    "    vectorstore = Neo4jVector.from_existing_index(\n",
    "        embedding=embeddings, \n",
    "        index_name=\"Chunk\",\n",
    "        url=url,\n",
    "        username=username,\n",
    "        password=password,\n",
    "        )\n",
    "    print(\"Loaded from aura db.\")\n",
    "except:\n",
    "    vectorstore = Neo4jVector.from_texts(\n",
    "        embedding=embeddings,\n",
    "        texts=knowledge_base_docs,\n",
    "        url=url,\n",
    "        username=username,\n",
    "        password=password,\n",
    "    )\n",
    "    print(\"Stored in aura db.\")\n",
    "    \n",
    "retriever = vectorstore.as_retriever()"
   ]
  },
  {
   "cell_type": "markdown",
   "metadata": {},
   "source": [
    "### Agentic Framework"
   ]
  },
  {
   "cell_type": "code",
   "execution_count": 22,
   "metadata": {},
   "outputs": [],
   "source": [
    "import os\n",
    "from langchain_google_genai import ChatGoogleGenerativeAI\n",
    "from langchain_openai import ChatOpenAI\n",
    "provider = \"GOOGLE\"\n",
    "model = \"gemini-1.5-flash\"\n",
    "\n",
    "if provider == \"GOOGLE\":\n",
    "    TIME_S = 5\n",
    "else:\n",
    "    TIME_S = 0\n",
    "\n",
    "if provider==\"GOOGLE\":\n",
    "    llm = ChatGoogleGenerativeAI(model=model, api_key=os.getenv(\"GEMINI_API_KEY\"))\n",
    "elif provider==\"OPENAI\":\n",
    "    llm = ChatOpenAI(model=model, api_key=os.getenv(\"OPENAI_API_KEY\"))\n",
    "# else:\n",
    "#     llm = ChatOllama(model=model)"
   ]
  },
  {
   "cell_type": "code",
   "execution_count": 23,
   "metadata": {},
   "outputs": [],
   "source": [
    "from typing import TypedDict\n",
    "\n",
    "class State(TypedDict):\n",
    "    \"\"\"Defines the state for the LangGraph workflow.\"\"\"\n",
    "    prompt: str\n",
    "    reasons: str\n",
    "    diagnosis: str"
   ]
  },
  {
   "cell_type": "code",
   "execution_count": 47,
   "metadata": {},
   "outputs": [],
   "source": [
    "# Define prompts as variables, avoiding direct embedding in code\n",
    "ANALYSIS_PROMPT = \"\"\"\n",
    "Use the *historical data* as knowledge and analyze the current *user symptoms* to diagnose if user has 'Rheumatoid Arthritis' or 'Fibromyalgia'.\\n\n",
    "Provide reasons of diagnosis in 5 points.\\n\n",
    "Do not output anything else.\\n\n",
    "\"\"\"\n",
    "OUTPUT_PROMPT = \"\"\"\n",
    "Analyze the above diagnosis and write the final output as 'Rheumatoid Arthritis' or 'Fibromyalgia'.\\n\n",
    "Do not output anything else.\\n\n",
    "\"\"\""
   ]
  },
  {
   "cell_type": "code",
   "execution_count": 48,
   "metadata": {},
   "outputs": [],
   "source": [
    "import time\n",
    "\n",
    "def analysis_agent(state: State):\n",
    "    \"\"\"Analyzes the input prompt using the LLM and retrieved documents.\"\"\"\n",
    "    docs = retriever.invoke(state['prompt'])\n",
    "    docs_text = \"\".join(d.page_content for d in docs)\n",
    "    print(docs_text)\n",
    "    msg = llm.invoke(\n",
    "        f\"Historical Data : {docs_text}\\n\\nUser symptoms : {state['prompt']}\\n\\n{ANALYSIS_PROMPT}\")\n",
    "    time.sleep(TIME_S)\n",
    "    return {\"response1\": msg.content}\n",
    "\n",
    "\n",
    "def output_agent(state: State):\n",
    "    \"\"\"Generates the final output based on the analysis.\"\"\"\n",
    "    msg = llm.invoke(\n",
    "        f\"Analysis details - {state['response1']}{OUTPUT_PROMPT}\")\n",
    "    time.sleep(TIME_S)\n",
    "    return {\"output\": msg.content}"
   ]
  },
  {
   "cell_type": "code",
   "execution_count": 26,
   "metadata": {},
   "outputs": [],
   "source": [
    "from langgraph.graph import StateGraph, START, END\n",
    "\n",
    "# Define LangGraph workflow\n",
    "workflow = StateGraph(State)\n",
    "workflow.add_node(\"Symptom Analysis\", analysis_agent)\n",
    "workflow.add_node(\"Results\", output_agent)\n",
    "workflow.add_edge(START, \"Symptom Analysis\")\n",
    "workflow.add_edge(\"Symptom Analysis\", \"Results\")\n",
    "workflow.add_edge(\"Results\", END)\n",
    "chain = workflow.compile()"
   ]
  },
  {
   "cell_type": "code",
   "execution_count": 45,
   "metadata": {},
   "outputs": [],
   "source": [
    "test_docs = []\n",
    "for index, row in test_df.iterrows():\n",
    "    patient_prompt = create_patient_prompt(row)\n",
    "    patient_prompt = (\"\\n\").join(patient_prompt.split(\"\\n\")[3:-2])\n",
    "    test_docs.append(patient_prompt)"
   ]
  },
  {
   "cell_type": "code",
   "execution_count": 32,
   "metadata": {},
   "outputs": [],
   "source": [
    "actual_diagnosis = []\n",
    "\n",
    "for d in test_docs:\n",
    "    actual_diagnosis.append(d.split(\"\\n\")[-2].split(\": \")[-1])"
   ]
  },
  {
   "cell_type": "code",
   "execution_count": null,
   "metadata": {},
   "outputs": [
    {
     "name": "stdout",
     "output_type": "stream",
     "text": [
      "Diagnosing - Patient 1\n"
     ]
    },
    {
     "name": "stderr",
     "output_type": "stream",
     "text": [
      "[#CCC0]  _: <CONNECTION> error: Failed to read from defunct connection ResolvedIPv4Address(('34.126.161.242', 7687)) (ResolvedIPv4Address(('34.126.161.242', 7687))): TimeoutError('The read operation timed out')\n",
      "Unable to retrieve routing information\n",
      "Transaction failed and will be retried in 1.0006169028293572s (Unable to retrieve routing information)\n"
     ]
    }
   ],
   "source": [
    "# Process data and save results\n",
    "reasons = []\n",
    "diagnosis = []\n",
    "\n",
    "for id, chunk in enumerate(test_docs):\n",
    "    print(f\"Diagnosing - Patient {id+1}\")\n",
    "    state = chain.invoke({\"prompt\": chunk})\n",
    "    reasons.append(state['response1'])\n",
    "    diagnosis.append(state['output'])\n",
    "    break\n",
    "\n",
    "results_df = [reasons, diagnosis, actual_diagnosis]"
   ]
  },
  {
   "cell_type": "code",
   "execution_count": null,
   "metadata": {},
   "outputs": [],
   "source": []
  }
 ],
 "metadata": {
  "kernelspec": {
   "display_name": "Python 3",
   "language": "python",
   "name": "python3"
  },
  "language_info": {
   "codemirror_mode": {
    "name": "ipython",
    "version": 3
   },
   "file_extension": ".py",
   "mimetype": "text/x-python",
   "name": "python",
   "nbconvert_exporter": "python",
   "pygments_lexer": "ipython3",
   "version": "3.12.1"
  }
 },
 "nbformat": 4,
 "nbformat_minor": 2
}
