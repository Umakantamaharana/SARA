{
 "cells": [
  {
   "cell_type": "markdown",
   "metadata": {},
   "source": [
    "#### Install required packages"
   ]
  },
  {
   "cell_type": "code",
   "execution_count": 6,
   "metadata": {},
   "outputs": [
    {
     "name": "stdout",
     "output_type": "stream",
     "text": [
      "Note: you may need to restart the kernel to use updated packages.\n"
     ]
    }
   ],
   "source": [
    "%pip install -qr requirements.txt"
   ]
  },
  {
   "cell_type": "markdown",
   "metadata": {},
   "source": [
    "#### Import csv file"
   ]
  },
  {
   "cell_type": "code",
   "execution_count": 1,
   "metadata": {},
   "outputs": [],
   "source": [
    "import glob\n",
    "raw_data = glob.glob(\"*.csv\")"
   ]
  },
  {
   "cell_type": "code",
   "execution_count": 2,
   "metadata": {},
   "outputs": [],
   "source": [
    "import pandas as pd\n",
    "raw_pd = pd.read_csv(raw_data[0])"
   ]
  },
  {
   "cell_type": "markdown",
   "metadata": {},
   "source": [
    "#### Preprocess the csv file"
   ]
  },
  {
   "cell_type": "code",
   "execution_count": 13,
   "metadata": {},
   "outputs": [],
   "source": [
    "filtered_data = raw_pd.drop(columns=[\"Timestamp\", \"Email Address\", \"First Name / Given name ( ପ୍ରଥମ ନାମ )\", \"Last name / Surname ( ଶେଷ ନାମ )\",\"Mother Tongue ( ମାତୃଭାଷା )\", \"Mobile Number 1 ( ମୋବାଇଲ୍ ନମ୍ବର ୧ )\", \"Mobile Number 2 ( ମୋବାଇଲ୍ ନମ୍ବର ୨  )\", \"KIMS ID ( କିମସ ପରିଚୟ ନମ୍ବର )\", \"Town / District ( ସହର /ଜିଲ୍ଲା )\", \"State ( ରାଜ୍ୟ )\", \"Upload a photo of your hands against a white background as given below.\\nନିମ୍ନରେ ଦିଆଯାଇଥିବା ଧଳା ପୃଷ୍ଠଭୂମିରେ ଆପଣଙ୍କ ହାତର ଏକ ଫଟୋ ଅପଲୋଡ୍ କରନ୍ତୁ।\"])"
   ]
  },
  {
   "cell_type": "code",
   "execution_count": 19,
   "metadata": {},
   "outputs": [
    {
     "data": {
      "text/plain": [
       "array([np.int64(38), 'Female', 'Joint Pain', np.float64(10.0),\n",
       "       np.float64(10.0), np.float64(10.0), np.float64(10.0), 'No ( ନା )',\n",
       "       '11', '5', 'No', '12', nan,\n",
       "       'Comes and goes (Episodic) ( ଆସେ ଓ ଯାଏ )', 'No ( ନା )',\n",
       "       'No ( ନା )', 'Morning ( ସକାଳେ )', 'Yes ( ହଁ )', np.int64(6),\n",
       "       'Increase ( ବଢେ )', 'Reduce ( କମେ )', 'Yes ( ହଁ )',\n",
       "       'Moderate Relief ( ମଧ୍ୟମ ଧରଣର ରିଲିଫ୍ )',\n",
       "       'Joint Pain ( ଗଣ୍ଠି ଯନ୍ତ୍ରଣା )',\n",
       "       'Yes, less than 100°F ( ହଁ, 100° ଫାରେନହାଇଟ୍ ରୁ କମ୍ )', 'No',\n",
       "       'No ( ନା )', 'No ( ନା )', 'No ( ନା )', 'No ( ନା )', 'No ( ନା )',\n",
       "       'No ( ନା )', 'No ( ନା )', 'No ( ନା )', 'No ( ନା )', 'No ( ନା )',\n",
       "       'No ( ନା )', 'Yes, Rheumatoid Arthraitis ( ହଁ, ଆର୍ଥ୍ରାଇଟିସ୍ )',\n",
       "       'Yes, They helped ( ହଁ, ମୁଁ ସାହାଯ୍ୟ କଲି )',\n",
       "       'Yes, Thyroid Problem ( ହଁ, ଥାଇରଏଡ୍ ସମସ୍ୟା )', np.float64(nan),\n",
       "       np.float64(nan), np.float64(nan), 'Rheumatoid Arthritis ', nan,\n",
       "       np.float64(nan), np.float64(nan)], dtype=object)"
      ]
     },
     "execution_count": 19,
     "metadata": {},
     "output_type": "execute_result"
    }
   ],
   "source": [
    "filtered_data.iloc[3].values"
   ]
  },
  {
   "cell_type": "code",
   "execution_count": null,
   "metadata": {},
   "outputs": [],
   "source": []
  }
 ],
 "metadata": {
  "kernelspec": {
   "display_name": ".venv",
   "language": "python",
   "name": "python3"
  },
  "language_info": {
   "codemirror_mode": {
    "name": "ipython",
    "version": 3
   },
   "file_extension": ".py",
   "mimetype": "text/x-python",
   "name": "python",
   "nbconvert_exporter": "python",
   "pygments_lexer": "ipython3",
   "version": "3.12.1"
  }
 },
 "nbformat": 4,
 "nbformat_minor": 2
}
